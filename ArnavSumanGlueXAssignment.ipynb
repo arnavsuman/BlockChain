{
  "nbformat": 4,
  "nbformat_minor": 0,
  "metadata": {
    "colab": {
      "provenance": []
    },
    "kernelspec": {
      "name": "python3",
      "display_name": "Python 3"
    },
    "language_info": {
      "name": "python"
    }
  },
  "cells": [
    {
      "cell_type": "markdown",
      "source": [
        "#PART 2 Indexing the Factory Contract"
      ],
      "metadata": {
        "id": "xaocSb5TS_j3"
      }
    },
    {
      "cell_type": "markdown",
      "source": [
        "##Task 1: Fetch Deployed Contracts\n",
        "###This task connects to the Ethereum mainnet using the Infura RPC provider and interacts with the DefaultCollateralFactory contract to retrieve all deployed DefaultCollateral contract addresses. The contract's ABI defines the getDeployedContracts function, which is called to fetch the list of addresses. Once retrieved, the addresses are printed to the console and saved to a deployed_contracts.json file in the local directory. This ensures that the contract addresses are stored for further processing in Task 2. Any errors during the process, such as connection issues or incorrect ABI, are caught and logged for debugging.\n",
        "---\n",
        "\n"
      ],
      "metadata": {
        "id": "vquplViDRuZ4"
      }
    },
    {
      "cell_type": "code",
      "execution_count": null,
      "metadata": {
        "id": "mLBu37aYRq7s"
      },
      "outputs": [],
      "source": [
        "from web3 import Web3\n",
        "import os\n",
        "from dotenv import load_dotenv\n",
        "import json\n",
        "\n",
        "load_dotenv()\n",
        "INFURA_API_KEY = os.getenv(\"INFURA_API_KEY\") #REPLACE\n",
        "\n",
        "#  Connect to Ethereum Mainnet\n",
        "provider_url = f\"https://mainnet.infura.io/v3/{INFURA_API_KEY}\"\n",
        "web3 = Web3(Web3.HTTPProvider(provider_url))\n",
        "\n",
        "#  Define Factory Contract Details\n",
        "factory_address = \"0xAEb6bdd95c502390db8f52c8909F703E9Af6a346\"  # VaultFactory contract address\n",
        "factory_abi = [{\"inputs\":[{\"internalType\":\"address\",\"name\":\"owner_\",\"type\":\"address\"}],\"stateMutability\":\"nonpayable\",\"type\":\"constructor\"},{\"inputs\":[],\"name\":\"AlreadyBlacklisted\",\"type\":\"error\"},{\"inputs\":[],\"name\":\"AlreadyWhitelisted\",\"type\":\"error\"},{\"inputs\":[],\"name\":\"EntityNotExist\",\"type\":\"error\"},{\"inputs\":[],\"name\":\"InvalidImplementation\",\"type\":\"error\"},{\"inputs\":[],\"name\":\"InvalidVersion\",\"type\":\"error\"},{\"inputs\":[],\"name\":\"NotOwner\",\"type\":\"error\"},{\"inputs\":[],\"name\":\"OldVersion\",\"type\":\"error\"},{\"inputs\":[{\"internalType\":\"address\",\"name\":\"owner\",\"type\":\"address\"}],\"name\":\"OwnableInvalidOwner\",\"type\":\"error\"},{\"inputs\":[{\"internalType\":\"address\",\"name\":\"account\",\"type\":\"address\"}],\"name\":\"OwnableUnauthorizedAccount\",\"type\":\"error\"},{\"anonymous\":false,\"inputs\":[{\"indexed\":true,\"internalType\":\"address\",\"name\":\"entity\",\"type\":\"address\"}],\"name\":\"AddEntity\",\"type\":\"event\"},{\"anonymous\":false,\"inputs\":[{\"indexed\":true,\"internalType\":\"uint64\",\"name\":\"version\",\"type\":\"uint64\"}],\"name\":\"Blacklist\",\"type\":\"event\"},{\"anonymous\":false,\"inputs\":[{\"indexed\":true,\"internalType\":\"address\",\"name\":\"entity\",\"type\":\"address\"},{\"indexed\":false,\"internalType\":\"uint64\",\"name\":\"newVersion\",\"type\":\"uint64\"}],\"name\":\"Migrate\",\"type\":\"event\"},{\"anonymous\":false,\"inputs\":[{\"indexed\":true,\"internalType\":\"address\",\"name\":\"previousOwner\",\"type\":\"address\"},{\"indexed\":true,\"internalType\":\"address\",\"name\":\"newOwner\",\"type\":\"address\"}],\"name\":\"OwnershipTransferred\",\"type\":\"event\"},{\"anonymous\":false,\"inputs\":[{\"indexed\":true,\"internalType\":\"address\",\"name\":\"implementation\",\"type\":\"address\"}],\"name\":\"Whitelist\",\"type\":\"event\"},{\"inputs\":[{\"internalType\":\"uint64\",\"name\":\"version\",\"type\":\"uint64\"}],\"name\":\"blacklist\",\"outputs\":[],\"stateMutability\":\"nonpayable\",\"type\":\"function\"},{\"inputs\":[{\"internalType\":\"uint64\",\"name\":\"version\",\"type\":\"uint64\"}],\"name\":\"blacklisted\",\"outputs\":[{\"internalType\":\"bool\",\"name\":\"value\",\"type\":\"bool\"}],\"stateMutability\":\"view\",\"type\":\"function\"},{\"inputs\":[{\"internalType\":\"uint64\",\"name\":\"version\",\"type\":\"uint64\"},{\"internalType\":\"address\",\"name\":\"owner_\",\"type\":\"address\"},{\"internalType\":\"bytes\",\"name\":\"data\",\"type\":\"bytes\"}],\"name\":\"create\",\"outputs\":[{\"internalType\":\"address\",\"name\":\"entity_\",\"type\":\"address\"}],\"stateMutability\":\"nonpayable\",\"type\":\"function\"},{\"inputs\":[{\"internalType\":\"uint256\",\"name\":\"index\",\"type\":\"uint256\"}],\"name\":\"entity\",\"outputs\":[{\"internalType\":\"address\",\"name\":\"\",\"type\":\"address\"}],\"stateMutability\":\"view\",\"type\":\"function\"},{\"inputs\":[{\"internalType\":\"uint64\",\"name\":\"version\",\"type\":\"uint64\"}],\"name\":\"implementation\",\"outputs\":[{\"internalType\":\"address\",\"name\":\"\",\"type\":\"address\"}],\"stateMutability\":\"view\",\"type\":\"function\"},{\"inputs\":[{\"internalType\":\"address\",\"name\":\"entity_\",\"type\":\"address\"}],\"name\":\"isEntity\",\"outputs\":[{\"internalType\":\"bool\",\"name\":\"\",\"type\":\"bool\"}],\"stateMutability\":\"view\",\"type\":\"function\"},{\"inputs\":[],\"name\":\"lastVersion\",\"outputs\":[{\"internalType\":\"uint64\",\"name\":\"\",\"type\":\"uint64\"}],\"stateMutability\":\"view\",\"type\":\"function\"},{\"inputs\":[{\"internalType\":\"address\",\"name\":\"entity_\",\"type\":\"address\"},{\"internalType\":\"uint64\",\"name\":\"newVersion\",\"type\":\"uint64\"},{\"internalType\":\"bytes\",\"name\":\"data\",\"type\":\"bytes\"}],\"name\":\"migrate\",\"outputs\":[],\"stateMutability\":\"nonpayable\",\"type\":\"function\"},{\"inputs\":[],\"name\":\"owner\",\"outputs\":[{\"internalType\":\"address\",\"name\":\"\",\"type\":\"address\"}],\"stateMutability\":\"view\",\"type\":\"function\"},{\"inputs\":[],\"name\":\"renounceOwnership\",\"outputs\":[],\"stateMutability\":\"nonpayable\",\"type\":\"function\"},{\"inputs\":[],\"name\":\"totalEntities\",\"outputs\":[{\"internalType\":\"uint256\",\"name\":\"\",\"type\":\"uint256\"}],\"stateMutability\":\"view\",\"type\":\"function\"},{\"inputs\":[{\"internalType\":\"address\",\"name\":\"newOwner\",\"type\":\"address\"}],\"name\":\"transferOwnership\",\"outputs\":[],\"stateMutability\":\"nonpayable\",\"type\":\"function\"},{\"inputs\":[{\"internalType\":\"address\",\"name\":\"implementation_\",\"type\":\"address\"}],\"name\":\"whitelist\",\"outputs\":[],\"stateMutability\":\"nonpayable\",\"type\":\"function\"}]\n",
        "\n",
        "# Initialize the factory contract\n",
        "factory_contract = web3.eth.contract(address=Web3.to_checksum_address(factory_address), abi=factory_abi)\n",
        "\n",
        "#  Fetch All Deployed DefaultCollateral Contracts\n",
        "def get_deployed_contracts():\n",
        "    try:\n",
        "        print(\"Fetching deployed DefaultCollateral contracts...\")\n",
        "        deployed_contracts = factory_contract.functions.getDeployedContracts().call()\n",
        "        print(\"Deployed Contracts:\", deployed_contracts)\n",
        "\n",
        "        # Save to a JSON file\n",
        "        with open(\"deployed_contracts.json\", \"w\") as f:\n",
        "            json.dump(deployed_contracts, f, indent=4)\n",
        "        print(\"Saved deployed contracts to 'deployed_contracts.json'\")\n",
        "    except Exception as e:\n",
        "        print(f\"Error fetching deployed contracts: {e}\")\n",
        "\n",
        "if __name__ == \"__main__\":\n",
        "    get_deployed_contracts()\n"
      ]
    },
    {
      "cell_type": "markdown",
      "source": [
        "##Task 2: Fetch Input Tokens\n",
        "\n",
        "###This task reads the list of deployed DefaultCollateral contract addresses from the deployed_contracts.json file generated in Task 1. For each contract address, the script initializes a contract instance using its ABI and interacts with the inputToken function to retrieve the token address used for deposit and withdraw operations. The retrieved token addresses, along with their corresponding DefaultCollateral contract addresses, are stored in a list and saved to an input_tokens.json file. This provides a comprehensive mapping of all deployed contracts and their associated input tokens. Errors, such as missing data or unexpected function behavior, are logged for troubleshooting.\n",
        "\n",
        "\n",
        "\n",
        "\n",
        "\n",
        "\n",
        "\n"
      ],
      "metadata": {
        "id": "VdfKfAyASqew"
      }
    },
    {
      "cell_type": "markdown",
      "source": [],
      "metadata": {
        "id": "VSB7YLwGRwqe"
      }
    },
    {
      "cell_type": "code",
      "source": [
        "from web3 import Web3\n",
        "import os\n",
        "from dotenv import load_dotenv\n",
        "import json\n",
        "\n",
        "load_dotenv()\n",
        "INFURA_API_KEY = os.getenv(\"INFURA_API_KEY\")\n",
        "\n",
        "provider_url = f\"https://mainnet.infura.io/v3/{INFURA_API_KEY}\"\n",
        "web3 = Web3(Web3.HTTPProvider(provider_url))\n",
        "\n",
        "collateral_abi = [\n",
        "    {\n",
        "        \"constant\": True,\n",
        "        \"inputs\": [],\n",
        "        \"name\": \"inputToken\",\n",
        "        \"outputs\": [{\"name\": \"\", \"type\": \"address\"}],\n",
        "        \"payable\": False,\n",
        "        \"stateMutability\": \"view\",\n",
        "        \"type\": \"function\",\n",
        "    }\n",
        "]\n",
        "\n",
        "def fetch_input_tokens():\n",
        "    try:\n",
        "        # Load deployed contracts from JSON file\n",
        "        with open(\"deployed_contracts.json\", \"r\") as f:\n",
        "            deployed_contracts = json.load(f)\n",
        "\n",
        "        token_data = []\n",
        "        for address in deployed_contracts:\n",
        "            try:\n",
        "                print(f\"Fetching input token for DefaultCollateral contract: {address}\")\n",
        "                collateral_contract = web3.eth.contract(\n",
        "                    address=Web3.to_checksum_address(address), abi=collateral_abi\n",
        "                )\n",
        "                input_token_address = collateral_contract.functions.inputToken().call()\n",
        "                print(f\"Input Token Address: {input_token_address}\")\n",
        "                token_data.append({\"collateral_contract\": address, \"input_token\": input_token_address})\n",
        "            except Exception as e:\n",
        "                print(f\"Error fetching input token for {address}: {e}\")\n",
        "\n",
        "        # Save results to a JSON file\n",
        "        with open(\"input_tokens.json\", \"w\") as f:\n",
        "            json.dump(token_data, f, indent=4)\n",
        "        print(\"Saved input token data to 'input_tokens.json'\")\n",
        "    except Exception as e:\n",
        "        print(f\"Error processing contracts: {e}\")\n",
        "\n",
        "if __name__ == \"__main__\":\n",
        "    fetch_input_tokens()\n"
      ],
      "metadata": {
        "id": "uB3-LJ-_SsLw"
      },
      "execution_count": null,
      "outputs": []
    },
    {
      "cell_type": "markdown",
      "source": [
        "#Part 3: Implementing Deposit and Withdraw Functions"
      ],
      "metadata": {
        "id": "qT4EJlDpTaQI"
      }
    },
    {
      "cell_type": "markdown",
      "source": [
        "## TASK 1 IMPLEMENTING DEPOSIT FUNCTION"
      ],
      "metadata": {
        "id": "FFH06us3TpIY"
      }
    },
    {
      "cell_type": "code",
      "source": [
        "from web3 import Web3\n",
        "import os\n",
        "from dotenv import load_dotenv\n",
        "\n",
        "load_dotenv()\n",
        "INFURA_API_KEY = os.getenv(\"INFURA_API_KEY\")\n",
        "PRIVATE_KEY = os.getenv(\"PRIVATE_KEY\")  # Your wallet's private key\n",
        "WALLET_ADDRESS = os.getenv(\"WALLET_ADDRESS\")  # Your wallet address\n",
        "\n",
        " Connect to Ethereum Mainnet\n",
        "provider_url = f\"https://mainnet.infura.io/v3/{INFURA_API_KEY}\"\n",
        "web3 = Web3(Web3.HTTPProvider(provider_url))\n",
        "\n",
        "# ABI for DefaultCollateral contract\n",
        "collateral_abi = [\n",
        "    {\n",
        "        \"constant\": False,\n",
        "        \"inputs\": [{\"name\": \"amount\", \"type\": \"uint256\"}],\n",
        "        \"name\": \"deposit\",\n",
        "        \"outputs\": [{\"name\": \"outputAmount\", \"type\": \"uint256\"}],\n",
        "        \"payable\": False,\n",
        "        \"stateMutability\": \"nonpayable\",\n",
        "        \"type\": \"function\",\n",
        "    },\n",
        "    {\n",
        "        \"constant\": True,\n",
        "        \"inputs\": [],\n",
        "        \"name\": \"conversionRate\",\n",
        "        \"outputs\": [{\"name\": \"\", \"type\": \"uint256\"}],\n",
        "        \"payable\": False,\n",
        "        \"stateMutability\": \"view\",\n",
        "        \"type\": \"function\",\n",
        "    },\n",
        "]\n",
        "\n",
        "def deposit(collateral_address, input_amount):\n",
        "    try:\n",
        "        # Initialize the contract\n",
        "        collateral_contract = web3.eth.contract(\n",
        "            address=Web3.to_checksum_address(collateral_address), abi=collateral_abi\n",
        "        )\n",
        "\n",
        "        conversion_rate = collateral_contract.functions.conversionRate().call()\n",
        "        print(f\"Conversion Rate: {conversion_rate}\")\n",
        "\n",
        "        expected_output = input_amount * conversion_rate\n",
        "        print(f\"Expected Output Amount: {expected_output}\")\n",
        "\n",
        "        nonce = web3.eth.get_transaction_count(WALLET_ADDRESS)\n",
        "        transaction = collateral_contract.functions.deposit(input_amount).build_transaction({\n",
        "            \"chainId\": 1,  # Mainnet chain ID\n",
        "            \"gas\": 200000,  # Adjust gas limit as needed\n",
        "            \"gasPrice\": web3.to_wei(\"20\", \"gwei\"),  # Adjust gas price as needed\n",
        "            \"nonce\": nonce,\n",
        "            \"from\": WALLET_ADDRESS,\n",
        "        })\n",
        "\n",
        "        signed_txn = web3.eth.account.sign_transaction(transaction, private_key=PRIVATE_KEY)\n",
        "\n",
        "        txn_hash = web3.eth.send_raw_transaction(signed_txn.rawTransaction)\n",
        "        print(f\"Transaction sent: {web3.to_hex(txn_hash)}\")\n",
        "\n",
        "        receipt = web3.eth.wait_for_transaction_receipt(txn_hash)\n",
        "        print(f\"Transaction receipt: {receipt}\")\n",
        "\n",
        "        return expected_output\n",
        "    except Exception as e:\n",
        "        print(f\"Error in deposit function: {e}\")\n",
        "        return None\n",
        "\n",
        "# Step 3: Test the Deposit Function\n",
        "if __name__ == \"__main__\":\n",
        "    collateral_address = \"0xAEb6bdd95c502390db8f52c8909F703E9Af6a346\"  # Replace with actual contract address\n",
        "    input_amount = 100  # Replace with the deposit amount (in smallest unit, e.g., wei)\n",
        "\n",
        "    output = deposit(collateral_address, input_amount)\n",
        "    if output:\n",
        "        print(f\"Deposit successful. Output Amount: {output}\")\n",
        "    else:\n",
        "        print(\"Deposit failed.\")\n"
      ],
      "metadata": {
        "id": "TZFwKOMUUIeo"
      },
      "execution_count": null,
      "outputs": []
    },
    {
      "cell_type": "markdown",
      "source": [
        "Explanation of Key Components:\n",
        "Contract Interaction:\n",
        "\n",
        "The deposit function is defined in the DefaultCollateral contract. It accepts the deposit amount and returns the output amount.\n",
        "Conversion Rate:\n",
        "\n",
        "The conversionRate function fetches the rate for converting the deposit token into the output amount. This rate is multiplied by the input amount to calculate the expected output.\n",
        "Transaction Preparation:\n",
        "\n",
        "The script constructs the transaction to call the deposit function.\n",
        "It sets the necessary parameters like gas limit, gas price, and chain ID (1 for Ethereum mainnet).\n",
        "Transaction Signing and Sending:\n",
        "\n",
        "The transaction is signed using the private key of the wallet, ensuring it's valid.\n",
        "The signed transaction is sent to the Ethereum network, and the receipt is fetched after the transaction is mined.\n",
        "Output Amount:\n",
        "\n",
        "The script calculates and displays the output amount based on the conversion rate."
      ],
      "metadata": {
        "id": "n6JnMTy3UlGY"
      }
    },
    {
      "cell_type": "markdown",
      "source": [
        "## TASK 2 IMPLEMENTING WITHDRAW FUNCTION"
      ],
      "metadata": {
        "id": "7mylvfGZTu9J"
      }
    },
    {
      "cell_type": "code",
      "source": [
        "from web3 import Web3\n",
        "import os\n",
        "from dotenv import load_dotenv\n",
        "\n",
        "load_dotenv()\n",
        "INFURA_API_KEY = os.getenv(\"INFURA_API_KEY\")\n",
        "PRIVATE_KEY = os.getenv(\"PRIVATE_KEY\")  # Your wallet's private key\n",
        "WALLET_ADDRESS = os.getenv(\"WALLET_ADDRESS\")  # Your wallet address\n",
        "\n",
        "#  Connect to Ethereum Mainnet\n",
        "provider_url = f\"https://mainnet.infura.io/v3/{INFURA_API_KEY}\"\n",
        "web3 = Web3(Web3.HTTPProvider(provider_url))\n",
        "\n",
        "# ABI for DefaultCollateral contract\n",
        "collateral_abi = [\n",
        "    {\n",
        "        \"constant\": False,\n",
        "        \"inputs\": [{\"name\": \"amount\", \"type\": \"uint256\"}],\n",
        "        \"name\": \"withdraw\",\n",
        "        \"outputs\": [{\"name\": \"outputAmount\", \"type\": \"uint256\"}],\n",
        "        \"payable\": False,\n",
        "        \"stateMutability\": \"nonpayable\",\n",
        "        \"type\": \"function\",\n",
        "    },\n",
        "    {\n",
        "        \"constant\": True,\n",
        "        \"inputs\": [],\n",
        "        \"name\": \"conversionRate\",\n",
        "        \"outputs\": [{\"name\": \"\", \"type\": \"uint256\"}],\n",
        "        \"payable\": False,\n",
        "        \"stateMutability\": \"view\",\n",
        "        \"type\": \"function\",\n",
        "    },\n",
        "]\n",
        "\n",
        "def withdraw(collateral_address, input_amount):\n",
        "    try:\n",
        "        collateral_contract = web3.eth.contract(\n",
        "            address=Web3.to_checksum_address(collateral_address), abi=collateral_abi\n",
        "        )\n",
        "\n",
        "        conversion_rate = collateral_contract.functions.conversionRate().call()\n",
        "        print(f\"Conversion Rate: {conversion_rate}\")\n",
        "\n",
        "        expected_output = input_amount / conversion_rate\n",
        "        print(f\"Expected Output Amount: {expected_output}\")\n",
        "\n",
        "        nonce = web3.eth.get_transaction_count(WALLET_ADDRESS)\n",
        "        transaction = collateral_contract.functions.withdraw(input_amount).build_transaction({\n",
        "            \"chainId\": 1,  # Mainnet chain ID\n",
        "            \"gas\": 200000,  # Adjust gas limit as needed\n",
        "            \"gasPrice\": web3.to_wei(\"20\", \"gwei\"),  # Adjust gas price as needed\n",
        "            \"nonce\": nonce,\n",
        "            \"from\": WALLET_ADDRESS,\n",
        "        })\n",
        "\n",
        "        signed_txn = web3.eth.account.sign_transaction(transaction, private_key=PRIVATE_KEY)\n",
        "\n",
        "        txn_hash = web3.eth.send_raw_transaction(signed_txn.rawTransaction)\n",
        "        print(f\"Transaction sent: {web3.to_hex(txn_hash)}\")\n",
        "\n",
        "        receipt = web3.eth.wait_for_transaction_receipt(txn_hash)\n",
        "        print(f\"Transaction receipt: {receipt}\")\n",
        "\n",
        "        # Return the output amount\n",
        "        return expected_output\n",
        "    except Exception as e:\n",
        "        print(f\"Error in withdraw function: {e}\")\n",
        "        return None\n",
        "\n",
        "if __name__ == \"__main__\":\n",
        "    collateral_address = \"0xAEb6bdd95c502390db8f52c8909F703E9Af6a346\"  # Replace with actual contract address\n",
        "    input_amount = 50  # Replace with the withdrawal amount (in smallest unit, e.g., wei)\n",
        "\n",
        "    output = withdraw(collateral_address, input_amount)\n",
        "    if output:\n",
        "        print(f\"Withdrawal successful. Output Amount: {output}\")\n",
        "    else:\n",
        "        print(\"Withdrawal failed.\")\n"
      ],
      "metadata": {
        "id": "yf3JDGmpUY5P"
      },
      "execution_count": null,
      "outputs": []
    },
    {
      "cell_type": "markdown",
      "source": [
        "Explanation of Key Components:\n",
        "Contract Interaction:\n",
        "\n",
        "The withdraw function in the contract is called with the input amount.\n",
        "The ABI specifies the function's input and output structure.\n",
        "Conversion Rate:\n",
        "\n",
        "The conversionRate function is called to calculate the expected output amount. Adjust this if the contract handles conversions differently.\n",
        "Transaction Preparation:\n",
        "\n",
        "A transaction is created to call the withdraw function, including parameters like gas limit, gas price, and chain ID.\n",
        "Transaction Signing and Sending:\n",
        "\n",
        "The transaction is signed and sent using the wallet's private key.\n",
        "The script waits for the transaction receipt to confirm the withdrawal was successful.\n",
        "Output Amount:\n",
        "\n",
        "The script calculates and displays the expected output amount based on the contract's conversion rate."
      ],
      "metadata": {
        "id": "mxb41oDmUtN5"
      }
    }
  ]
}